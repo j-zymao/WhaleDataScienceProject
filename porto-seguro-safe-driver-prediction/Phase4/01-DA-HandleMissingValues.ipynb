{
 "cells": [
  {
   "cell_type": "markdown",
   "metadata": {},
   "source": [
    "<div align=center>\n",
    "<img src=https://github.com/datoujinggzj/WhaleDataScienceProject/blob/master/pic/click.gif?raw=true width='100' />\n",
    "</div>\n",
    "\n",
    "---\n",
    "\n",
    "<div align=center>\n",
    "<a href='https://zg104.github.io'> \n",
    "<img src=https://github.com/datoujinggzj/WhaleDataScienceProject/blob/master/pic/17.png?raw=true/>\n",
    "</div>"
   ]
  },
  {
   "cell_type": "markdown",
   "metadata": {},
   "source": [
    "<div class=\"alert alert-block alert-warning\">\n",
    "<center><b>【第四阶段】项目日志</b></center>\n",
    "    \n",
    "    \n",
    "第四阶段：【数据分析全解析】\n",
    "   \n",
    "第三节阶段核心目的：全方位解析你所不知道的数据分析全链路，第三阶段数据分析部分结束。\n",
    "    \n",
    "难度（最高5星）：⭐⭐⭐\n",
    "    \n",
    "第三阶段周期：2022年4月22日 至 2022年4月29日（北京时间）\n",
    "\n",
    "\n",
    "Good Luck!\n",
    "</div>"
   ]
  },
  {
   "cell_type": "markdown",
   "metadata": {},
   "source": [
    "接着上一阶段，我们了解了如何去处理类别不平衡数据，这一阶段，我们把重点放在数据分析的层面，那么第一步就是处理缺失值！\n",
    "\n",
    "\n",
    "# 缺失值处理\n",
    "\n",
    "我们知道在这个数据集中，-1代表着缺失值，那么我们对付缺失值无非就是两招：\n",
    "\n",
    "- 移除\n",
    "- 填充\n",
    "\n",
    "移除比较简单，要么直接干掉整个列（使用`drop(axis=1)`），要么去除所有含缺失值的行（使用`dropna()`）。\n",
    "\n",
    "前提是，缺失值在整个列的比例达到40%以上，我们才可以drop列，不然我们就要采取下一种方法，也就是填充。\n",
    "\n",
    "**建议大家先阅读一下下面的文章链接**👇👇👇\n",
    "\n",
    "https://gitee.com/gzjzg/data-preparation-crash-course/tree/master/HandleMissingValues"
   ]
  },
  {
   "cell_type": "code",
   "execution_count": 1,
   "metadata": {},
   "outputs": [],
   "source": [
    "# import packages\n",
    "\n",
    "# data processing\n",
    "import pandas as pd\n",
    "import numpy as np\n",
    "from datetime import timedelta, datetime\n",
    "\n",
    "\n",
    "import re\n",
    "\n",
    "# data visualization\n",
    "import plotly.graph_objs as go\n",
    "from plotly.graph_objs import Bar, Layout\n",
    "from plotly import offline\n",
    "import matplotlib.pyplot as plt\n",
    "import seaborn as sns\n",
    "sns.set_theme(style=\"whitegrid\")\n",
    "sns.set(rc={'figure.figsize':(11.7,8.27)})\n",
    "\n",
    "plt.rcParams['font.sans-serif']=['SimHei'] #用来正常显示中文标签\n",
    "plt.rcParams['axes.unicode_minus'] = False #用来正常显示负号\n",
    "\n",
    "# change text color\n",
    "import colorama\n",
    "from colorama import Fore, Style\n",
    "\n",
    "# IPython\n",
    "from IPython.display import IFrame"
   ]
  },
  {
   "cell_type": "code",
   "execution_count": 2,
   "metadata": {},
   "outputs": [],
   "source": [
    "# 读取数据\n",
    "\n",
    "train = pd.read_csv(r\"C:\\Users\\gzjgz\\OneDrive\\Desktop\\WhaleDataScienceProject-master\\Python_data\\porto-seguro-safe-driver-prediction_data\\train.gz\")\n",
    "test = pd.read_csv(r\"C:\\Users\\gzjgz\\OneDrive\\Desktop\\WhaleDataScienceProject-master\\Python_data\\porto-seguro-safe-driver-prediction_data\\test.gz\")"
   ]
  },
  {
   "cell_type": "code",
   "execution_count": 3,
   "metadata": {},
   "outputs": [],
   "source": [
    "# 全集\n",
    "fullset = pd.concat([train,test],ignore_index=True)"
   ]
  },
  {
   "cell_type": "markdown",
   "metadata": {},
   "source": [
    "## 缺失值诊断"
   ]
  },
  {
   "cell_type": "markdown",
   "metadata": {},
   "source": [
    "那么在诊断数据缺失值时，一定要搞清楚为什么会存在缺失值，这将极大影响我们接下来如何处理缺失值！\n",
    "\n",
    "先介绍一下「缺失类型」\n",
    "\n",
    "- MCAR (Missing completely at Random)\n",
    "- MAR (Missing at Random)\n",
    "- MNAR (Missing not at Random)\n",
    "\n",
    "MCAR 的意思是“缺失与任何值之间没有关系”。因此，在这种情况下，可以删除缺失值。为此，可以删除列缺失值；最小化丢失数据或删除行缺失值。\n",
    "\n",
    "MAR 的意思是“缺失与其他观察到的数据之间存在系统关系，但与缺失数据无关”。\n",
    "\n",
    "最后，MNAR 的意思是“缺失与它的值之间存在关系，缺失或非缺失”。"
   ]
  },
  {
   "cell_type": "markdown",
   "metadata": {},
   "source": [
    "### 使用元数据"
   ]
  },
  {
   "cell_type": "markdown",
   "metadata": {},
   "source": [
    "这里可以借助meta元数据来查看缺失值情况！"
   ]
  },
  {
   "cell_type": "code",
   "execution_count": 4,
   "metadata": {},
   "outputs": [],
   "source": [
    "from data_management import meta"
   ]
  },
  {
   "cell_type": "code",
   "execution_count": 5,
   "metadata": {},
   "outputs": [],
   "source": [
    "metadata = meta(train,test)"
   ]
  },
  {
   "cell_type": "markdown",
   "metadata": {},
   "source": [
    "<div class=\"alert alert-block alert-success\"><b>Step 1</b>: 尝试基于meta找出所有含有缺失值的变量，并从大到小排序。    \n",
    "\n",
    "</div>"
   ]
  },
  {
   "cell_type": "code",
   "execution_count": 6,
   "metadata": {},
   "outputs": [],
   "source": [
    "missing_data = \"你的代码！\""
   ]
  },
  {
   "cell_type": "code",
   "execution_count": 7,
   "metadata": {},
   "outputs": [
    {
     "data": {
      "text/plain": [
       "'你的代码！'"
      ]
     },
     "execution_count": 7,
     "metadata": {},
     "output_type": "execute_result"
    }
   ],
   "source": [
    "missing_data"
   ]
  },
  {
   "cell_type": "markdown",
   "metadata": {},
   "source": [
    "<div class=\"alert alert-block alert-success\"><b>Step 2</b>: 所以哪些变量需要drop掉？哪些需要填充？该采取什么样的方法填充？在meta中能找到一些启发么？\n",
    "\n",
    "</div>"
   ]
  },
  {
   "cell_type": "code",
   "execution_count": 8,
   "metadata": {},
   "outputs": [],
   "source": [
    "cols_to_drop = \"你的代码！\""
   ]
  },
  {
   "cell_type": "code",
   "execution_count": 9,
   "metadata": {},
   "outputs": [
    {
     "ename": "TypeError",
     "evalue": "'builtin_function_or_method' object is not subscriptable",
     "output_type": "error",
     "traceback": [
      "\u001b[1;31m---------------------------------------------------------------------------\u001b[0m",
      "\u001b[1;31mTypeError\u001b[0m                                 Traceback (most recent call last)",
      "\u001b[1;32m<ipython-input-9-9eae949a9889>\u001b[0m in \u001b[0;36m<module>\u001b[1;34m\u001b[0m\n\u001b[1;32m----> 1\u001b[1;33m \u001b[0mcols_to_imp\u001b[0m \u001b[1;33m=\u001b[0m \u001b[0mmissing_data\u001b[0m\u001b[1;33m.\u001b[0m\u001b[0mindex\u001b[0m\u001b[1;33m[\u001b[0m\u001b[1;36m2\u001b[0m\u001b[1;33m:\u001b[0m\u001b[1;33m]\u001b[0m\u001b[1;33m.\u001b[0m\u001b[0mto_list\u001b[0m\u001b[1;33m(\u001b[0m\u001b[1;33m)\u001b[0m\u001b[1;33m\u001b[0m\u001b[1;33m\u001b[0m\u001b[0m\n\u001b[0m\u001b[0;32m      2\u001b[0m \u001b[0mcols_to_imp_3m\u001b[0m \u001b[1;33m=\u001b[0m \u001b[0mmissing_data\u001b[0m\u001b[1;33m[\u001b[0m\u001b[0mmissing_data\u001b[0m\u001b[1;33m.\u001b[0m\u001b[0mimputation\u001b[0m \u001b[1;33m==\u001b[0m \u001b[1;33m(\u001b[0m\u001b[1;34m'mode'\u001b[0m\u001b[1;33m,\u001b[0m \u001b[1;34m'median'\u001b[0m\u001b[1;33m,\u001b[0m \u001b[1;34m'mean'\u001b[0m\u001b[1;33m)\u001b[0m\u001b[1;33m]\u001b[0m\u001b[1;33m.\u001b[0m\u001b[0mindex\u001b[0m\u001b[1;33m.\u001b[0m\u001b[0mto_list\u001b[0m\u001b[1;33m(\u001b[0m\u001b[1;33m)\u001b[0m\u001b[1;33m\u001b[0m\u001b[1;33m\u001b[0m\u001b[0m\n\u001b[0;32m      3\u001b[0m \u001b[0mcols_to_imp_2m\u001b[0m \u001b[1;33m=\u001b[0m \u001b[0mmissing_data\u001b[0m\u001b[1;33m[\u001b[0m\u001b[0mmissing_data\u001b[0m\u001b[1;33m.\u001b[0m\u001b[0mimputation\u001b[0m \u001b[1;33m==\u001b[0m \u001b[1;33m(\u001b[0m\u001b[1;34m'mode'\u001b[0m\u001b[1;33m,\u001b[0m \u001b[1;34m'median'\u001b[0m\u001b[1;33m)\u001b[0m\u001b[1;33m]\u001b[0m\u001b[1;33m.\u001b[0m\u001b[0mindex\u001b[0m\u001b[1;33m.\u001b[0m\u001b[0mto_list\u001b[0m\u001b[1;33m(\u001b[0m\u001b[1;33m)\u001b[0m\u001b[1;33m\u001b[0m\u001b[1;33m\u001b[0m\u001b[0m\n\u001b[0;32m      4\u001b[0m \u001b[0mcols_to_imp_1m\u001b[0m \u001b[1;33m=\u001b[0m \u001b[0mmissing_data\u001b[0m\u001b[1;33m[\u001b[0m\u001b[0mmissing_data\u001b[0m\u001b[1;33m.\u001b[0m\u001b[0mimputation\u001b[0m \u001b[1;33m==\u001b[0m \u001b[1;33m(\u001b[0m\u001b[1;34m'mode'\u001b[0m\u001b[1;33m)\u001b[0m\u001b[1;33m]\u001b[0m\u001b[1;33m.\u001b[0m\u001b[0mindex\u001b[0m\u001b[1;33m.\u001b[0m\u001b[0mto_list\u001b[0m\u001b[1;33m(\u001b[0m\u001b[1;33m)\u001b[0m\u001b[1;33m\u001b[0m\u001b[1;33m\u001b[0m\u001b[0m\n",
      "\u001b[1;31mTypeError\u001b[0m: 'builtin_function_or_method' object is not subscriptable"
     ]
    }
   ],
   "source": [
    "cols_to_imp = missing_data.index[2:].to_list()\n",
    "cols_to_imp_3m = missing_data[missing_data.imputation == ('mode', 'median', 'mean')].index.to_list()\n",
    "cols_to_imp_2m = missing_data[missing_data.imputation == ('mode', 'median')].index.to_list()\n",
    "cols_to_imp_1m = missing_data[missing_data.imputation == ('mode')].index.to_list()"
   ]
  },
  {
   "cell_type": "markdown",
   "metadata": {},
   "source": [
    "以上，是单变量填充的思考方式，也是比较简单易理解的方法。\n",
    "\n",
    "什么是**单变量填充（univariate imputation）**？\n",
    "\n",
    "**就是当前列的缺失值只能通过当前列的信息填充，跟其他列无关。**\n",
    "\n",
    "后面，会给大家介绍如何单变量填充！"
   ]
  },
  {
   "cell_type": "markdown",
   "metadata": {},
   "source": [
    "### 使用missingno\n",
    "\n",
    "参考：https://github.com/datoujinggzj/DataScienceCrashCourse/blob/master/HandleMissingValues/03-missingno.ipynb"
   ]
  },
  {
   "cell_type": "code",
   "execution_count": null,
   "metadata": {},
   "outputs": [],
   "source": [
    "import missingno as msno"
   ]
  },
  {
   "cell_type": "code",
   "execution_count": null,
   "metadata": {},
   "outputs": [],
   "source": [
    "msno.bar(fullset.drop(['id','target'],axis=1).replace(-1,np.nan).sample(1000),figsize = [15,20]) "
   ]
  },
  {
   "cell_type": "code",
   "execution_count": null,
   "metadata": {},
   "outputs": [],
   "source": [
    "msno.matrix(fullset.drop(['id','target'],axis=1).sample(200).replace(-1,np.nan)) \n",
    "\n",
    "# 更清晰的展示缺失值的分布，但是在这里是无效的，主要用于时间序列数据，但这个数据不是！"
   ]
  },
  {
   "cell_type": "code",
   "execution_count": null,
   "metadata": {
    "scrolled": false
   },
   "outputs": [],
   "source": [
    "msno.heatmap(fullset[cols_to_imp].replace(-1,np.nan))"
   ]
  },
  {
   "cell_type": "code",
   "execution_count": null,
   "metadata": {},
   "outputs": [],
   "source": [
    "msno.dendrogram(fullset[cols_to_imp].replace(-1,np.nan))"
   ]
  },
  {
   "cell_type": "markdown",
   "metadata": {},
   "source": [
    "## 缺失值填充\n",
    "\n",
    "- 单变量\n",
    "- 多变量\n",
    "\n",
    "> 单变量填充：每一列填充缺失值都必须使用本列的信息，不能使用其他列的信息。\n",
    "\n",
    "\n",
    "> 多变量填充：可以借助其他列的信息。"
   ]
  },
  {
   "cell_type": "markdown",
   "metadata": {},
   "source": [
    "### 多变量填充"
   ]
  },
  {
   "cell_type": "markdown",
   "metadata": {},
   "source": [
    "通过上图可以看出每一对变量之间的缺失值关联程度，比如：\n",
    "\n",
    "ps_car_01_cat的缺失就会导致ps_ind_04_cat的缺失，是正向的关系，且关联程度很大！\n",
    "\n",
    "所以，接下来给大家介绍【多变量填充】，如果变量之间的缺失值生成原因有关联（上方的heatmap）"
   ]
  },
  {
   "cell_type": "markdown",
   "metadata": {},
   "source": [
    "从上图可以看出，我们尝试用多变量填充方法去填充有关联的变量！\n",
    "\n",
    "- ps_ind_05_cat | ps_car_07_cat\n",
    "- ps_car_01_cat | ps_ind_02_cat | ps_ind_04_cat\n",
    "- ps_reg_03 | ps_car_14 （连续型）\n",
    "\n",
    "以上这两组，组间有较强的缺失值关联度，最后一组是连续型变量，我们现在来介绍方法："
   ]
  },
  {
   "cell_type": "markdown",
   "metadata": {},
   "source": [
    "这里为大家介绍以下几个多变量填充方法：\n",
    "\n",
    "https://scikit-learn.org/stable/modules/impute.html\n",
    "\n",
    "---\n",
    "\n",
    "- Multivariate Imputation By Chained Equations (MICE) \n",
    "- KNN\n",
    "\n",
    "那么我们分别来用这两个包实现一下！"
   ]
  },
  {
   "cell_type": "code",
   "execution_count": null,
   "metadata": {},
   "outputs": [],
   "source": [
    "set1 = ['ps_ind_05_cat','ps_car_07_cat']\n",
    "set2 = ['ps_car_01_cat','ps_ind_02_cat','ps_ind_04_cat']\n",
    "set3 = ['ps_reg_03','ps_car_14']"
   ]
  },
  {
   "cell_type": "markdown",
   "metadata": {},
   "source": [
    "#### MICE\n",
    "\n",
    "MICE是非常简单好理解且比较常用的多变量填充方法，在sklearn和impyute上都可以实现，让我们来看看其原理吧！"
   ]
  },
  {
   "cell_type": "code",
   "execution_count": null,
   "metadata": {},
   "outputs": [],
   "source": [
    "IFrame(width=\"853\",height=\"480\",src = \"https://www.youtube.com/embed/WPiYOS3qK70\")"
   ]
  },
  {
   "cell_type": "code",
   "execution_count": null,
   "metadata": {},
   "outputs": [],
   "source": [
    "%%time\n",
    "\n",
    "from sklearn.experimental import enable_iterative_imputer  # noqa\n",
    "# now you can import normally from sklearn.impute\n",
    "from sklearn.impute import IterativeImputer\n",
    "\n",
    "from sklearn.ensemble import RandomForestRegressor\n",
    "rf = RandomForestRegressor(n_estimators=10, random_state=123)\n",
    "\n",
    "imp_mean = IterativeImputer(estimator=rf, missing_values=-1, random_state=0)\n",
    "set1_imp = imp_mean.fit_transform(train[set1])"
   ]
  },
  {
   "cell_type": "code",
   "execution_count": null,
   "metadata": {},
   "outputs": [],
   "source": [
    "%%time\n",
    "set2_imp = imp_mean.fit_transform(train[set2])"
   ]
  },
  {
   "cell_type": "markdown",
   "metadata": {},
   "source": [
    "仅仅从2个变量加到3个变量，运行时间就指数型增加，expensive！"
   ]
  },
  {
   "cell_type": "markdown",
   "metadata": {},
   "source": [
    "可以看到，对于set1来说，这方法并不适用于填充类别型变量，直接把整数给填充成小数了，如果再把小数直接round，那么就跟直接众数填充（单变量填充）没啥区别。\n",
    "\n",
    "对于set2，貌似没有直接按照众数填充，把缺失值填充到8左右，但是后面的缺失值实在太少了，几十万的数据，只有几百个缺失值，确实不够看，而且这种填充对本来的数据影响不大。\n",
    "\n",
    "那么再来试试2个连续型变量吧！"
   ]
  },
  {
   "cell_type": "code",
   "execution_count": null,
   "metadata": {},
   "outputs": [],
   "source": [
    "%%time\n",
    "set3_imp = imp_mean.fit_transform(train[set3])"
   ]
  },
  {
   "cell_type": "markdown",
   "metadata": {},
   "source": [
    "说明这个算法没有收敛，那么我们来看一下分布！"
   ]
  },
  {
   "cell_type": "code",
   "execution_count": null,
   "metadata": {},
   "outputs": [],
   "source": [
    "pd.DataFrame(set3_imp,columns = set3)"
   ]
  },
  {
   "cell_type": "code",
   "execution_count": null,
   "metadata": {},
   "outputs": [],
   "source": [
    "plt.subplot(3,1,1)\n",
    "sns.kdeplot(train[set3[0]])\n",
    "plt.subplot(3,1,2)\n",
    "sns.kdeplot(train[set3[0]].replace(-1,np.nan).fillna(train[set3[0]].mean()))\n",
    "plt.subplot(3,1,3)\n",
    "sns.kdeplot(pd.DataFrame(set3_imp,columns = set3)[set3[0]])\n",
    "\n",
    "plt.tight_layout()"
   ]
  },
  {
   "cell_type": "code",
   "execution_count": null,
   "metadata": {},
   "outputs": [],
   "source": [
    "plt.subplot(3,1,1)\n",
    "sns.kdeplot(train[set3[1]])\n",
    "plt.subplot(3,1,2)\n",
    "sns.kdeplot(train[set3[1]].replace(-1,np.nan).fillna(train[set3[1]].mean()))\n",
    "plt.subplot(3,1,3)\n",
    "sns.kdeplot(pd.DataFrame(set3_imp,columns = set3)[set3[1]])\n",
    "\n",
    "plt.tight_layout()"
   ]
  },
  {
   "cell_type": "markdown",
   "metadata": {},
   "source": [
    "可以看出，MICE可以更好地吻合原变量的概率分布，所以我们选择使用MICE填充！"
   ]
  },
  {
   "cell_type": "code",
   "execution_count": null,
   "metadata": {},
   "outputs": [],
   "source": [
    "train[set3] = pd.DataFrame(set3_imp,columns = set3)"
   ]
  },
  {
   "cell_type": "markdown",
   "metadata": {},
   "source": [
    "#### KNN"
   ]
  },
  {
   "cell_type": "code",
   "execution_count": null,
   "metadata": {},
   "outputs": [],
   "source": [
    "%%time\n",
    "# from sklearn.impute import KNNImputer\n",
    "# imputer = KNNImputer(missing_values=-1,n_neighbors=2000)\n",
    "# imputer.fit_transform(train[set1])\n",
    "\n",
    "# Wall time: 7min 35s"
   ]
  },
  {
   "cell_type": "markdown",
   "metadata": {},
   "source": [
    "这个计算时间真的是让我望而却步了，大家在面对大型数据集还是慎用吧，KNN真是让我害怕！"
   ]
  },
  {
   "cell_type": "markdown",
   "metadata": {},
   "source": [
    "### 单变量填充\n",
    "\n",
    "单变量填充就比较简单了，请大家直接看我的笔记！\n",
    "\n",
    "https://gitee.com/gzjzg/data-preparation-crash-course/blob/master/HandleMissingValues/01-Missing_Data_Proceesing_Basis.ipynb\n",
    "\n",
    "主要有：\n",
    "\n",
    "- fillna\n",
    "- replace\n",
    "- SimpleImputer\n",
    "- Intepolate\n",
    "\n",
    "这里我们主要使用SimpleImputer来填充！\n",
    "\n",
    "不同的strategy形成不同的填充模式，\n",
    "\n",
    "- If \"<font color=red>mean</font>\", then replace missing values using the mean along each column. Can only be used with numeric data.\n",
    "- If \"<font color=red>median</font>\", then replace missing values using the median along\n",
    "  each column. Can only be used with numeric data.\n",
    "- If \"<font color=red>most_frequent</font>\", then replace missing using the most frequent\n",
    "  value along each column. Can be used with strings or numeric data.\n",
    "  If there is more than one such value, only the smallest is returned.\n",
    "- If \"<font color=red>constant</font>\", then replace missing values with fill_value. Can be\n",
    "  used with strings or numeric data."
   ]
  },
  {
   "cell_type": "code",
   "execution_count": null,
   "metadata": {},
   "outputs": [],
   "source": [
    "# 缺失值处理（1）\n",
    "IFrame(width=\"853\",height=\"480\",src = \"http://v.xiaohongshu.com/01e23d740163edea018370037fc00fcb53_259.mp4?sign=ddc7525337222487fe99a77c32fa499e&t=6266c580\")"
   ]
  },
  {
   "cell_type": "code",
   "execution_count": null,
   "metadata": {},
   "outputs": [],
   "source": [
    "# 缺失值处理（2）\n",
    "IFrame(width=\"853\",height=\"480\",src = \"http://v.xiaohongshu.com/01e24207c120206a018370037fd1f059f3_259.mp4?sign=b402a6d59e6449d0759e2a5953ae6a1c&t=6266c580\")"
   ]
  },
  {
   "cell_type": "code",
   "execution_count": null,
   "metadata": {},
   "outputs": [],
   "source": [
    "# 缺失值处理（3）\n",
    "IFrame(width=\"853\",height=\"480\",src = \"http://v.xiaohongshu.com/pre_post/01e248713d22925d018370037feafe1133_259.mp4?sign=ceb965f12f645a52e0a76af7ac953a53&t=6266c580\")"
   ]
  },
  {
   "cell_type": "code",
   "execution_count": null,
   "metadata": {},
   "outputs": [],
   "source": [
    "from sklearn.impute import SimpleImputer "
   ]
  },
  {
   "cell_type": "code",
   "execution_count": null,
   "metadata": {},
   "outputs": [],
   "source": [
    "mode_imputer = SimpleImputer(missing_values = -1, strategy='most_frequent',add_indicator=True)"
   ]
  },
  {
   "cell_type": "code",
   "execution_count": null,
   "metadata": {},
   "outputs": [],
   "source": [
    "missing_data[4:]\n",
    "# 这些是还没填充的变量，我们就都用mode来填充，\n",
    "# 因为最后两个缺失值太少了，没有影响。"
   ]
  },
  {
   "cell_type": "code",
   "execution_count": null,
   "metadata": {},
   "outputs": [],
   "source": [
    "imp = mode_imputer.fit_transform(train[missing_data[4:].index])"
   ]
  },
  {
   "cell_type": "code",
   "execution_count": null,
   "metadata": {},
   "outputs": [],
   "source": [
    "train[missing_data[4:].index]=pd.DataFrame(imp).iloc[:,:len(missing_data[4:].index)]"
   ]
  },
  {
   "cell_type": "code",
   "execution_count": null,
   "metadata": {},
   "outputs": [],
   "source": [
    "train[missing_data[4:].index] = train[missing_data[4:].index].astype('int64')"
   ]
  },
  {
   "cell_type": "code",
   "execution_count": null,
   "metadata": {},
   "outputs": [],
   "source": [
    "# drop columns\n",
    "train.drop(cols_to_drop,axis=1,inplace=True)"
   ]
  },
  {
   "cell_type": "code",
   "execution_count": null,
   "metadata": {},
   "outputs": [],
   "source": [
    "# check out if we still have -1 \n",
    "(train == -1).sum().sum()"
   ]
  },
  {
   "cell_type": "code",
   "execution_count": null,
   "metadata": {},
   "outputs": [],
   "source": [
    "train.to_csv('train_imp.csv')"
   ]
  },
  {
   "cell_type": "markdown",
   "metadata": {},
   "source": [
    "<div class=\"alert alert-block alert-info\"> \n",
    "<p style=\"font-size:20px; display:inline\">💡</p> 思考：\n",
    "\n",
    "- add_indicator的作用\n",
    "- strategy不同造成什么影响\n",
    "</div>"
   ]
  },
  {
   "cell_type": "markdown",
   "metadata": {},
   "source": [
    "<div class=\"alert alert-block alert-info\"> \n",
    "<p style=\"font-size:20px; display:inline\">💡</p> 思考：\n",
    "\n",
    "第33行代码是什么意思呢？所以在用SimpleImputer时候要注意什么？\n",
    "</div>"
   ]
  },
  {
   "cell_type": "markdown",
   "metadata": {},
   "source": [
    "<div class=\"alert alert-block alert-info\"> \n",
    "<p style=\"font-size:20px; display:inline\">💡</p> 思考：\n",
    "\n",
    "fit_transform、fit有什么区别？\n",
    "</div>"
   ]
  },
  {
   "cell_type": "markdown",
   "metadata": {},
   "source": [
    "<div class=\"alert alert-block alert-success\"><b>作业：</b>: \n",
    "    \n",
    "尝试把测试集 test 也填充一下吧！\n",
    "    \n",
    "</div>"
   ]
  },
  {
   "cell_type": "markdown",
   "metadata": {},
   "source": [
    "此时，我们填充缺失值后的train不存在缺失值了，下一阶段我们来讲【异常值处理】。"
   ]
  },
  {
   "cell_type": "markdown",
   "metadata": {
    "_cell_guid": "de7a1f63-ccb4-49f0-bf3e-8e1181c5c5be",
    "_uuid": "b8aa7aee1c138ab00cecc0197b33d07d9a1cc1e0"
   },
   "source": [
    "<div align=center>\n",
    "<img src=https://github.com/datoujinggzj/WhaleDataScienceProject/blob/master/pic/ds_repo_qr.png?raw=true width='800' />\n",
    "</div>"
   ]
  }
 ],
 "metadata": {
  "kernelspec": {
   "display_name": "Python 3",
   "language": "python",
   "name": "python3"
  },
  "language_info": {
   "codemirror_mode": {
    "name": "ipython",
    "version": 3
   },
   "file_extension": ".py",
   "mimetype": "text/x-python",
   "name": "python",
   "nbconvert_exporter": "python",
   "pygments_lexer": "ipython3",
   "version": "3.7.6"
  }
 },
 "nbformat": 4,
 "nbformat_minor": 4
}
